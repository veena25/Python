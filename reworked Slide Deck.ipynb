{
 "cells": [
  {
   "cell_type": "code",
   "execution_count": 2,
   "metadata": {},
   "outputs": [
    {
     "ename": "NameError",
     "evalue": "name 'Person' is not defined",
     "output_type": "error",
     "traceback": [
      "\u001b[1;31m---------------------------------------------------------------------------\u001b[0m",
      "\u001b[1;31mNameError\u001b[0m                                 Traceback (most recent call last)",
      "\u001b[1;32m<ipython-input-2-15da63c066fc>\u001b[0m in \u001b[0;36m<module>\u001b[1;34m\u001b[0m\n\u001b[0;32m     10\u001b[0m \u001b[1;33m\u001b[0m\u001b[0m\n\u001b[0;32m     11\u001b[0m \u001b[1;31m#Child class\u001b[0m\u001b[1;33m\u001b[0m\u001b[1;33m\u001b[0m\u001b[1;33m\u001b[0m\u001b[0m\n\u001b[1;32m---> 12\u001b[1;33m \u001b[1;32mclass\u001b[0m \u001b[0mStudent\u001b[0m\u001b[1;33m(\u001b[0m\u001b[0mPerson\u001b[0m\u001b[1;33m)\u001b[0m\u001b[1;33m:\u001b[0m\u001b[1;33m\u001b[0m\u001b[1;33m\u001b[0m\u001b[0m\n\u001b[0m\u001b[0;32m     13\u001b[0m \u001b[1;31m#redefining a method with same name as in parent class\u001b[0m\u001b[1;33m\u001b[0m\u001b[1;33m\u001b[0m\u001b[1;33m\u001b[0m\u001b[0m\n\u001b[0;32m     14\u001b[0m   \u001b[1;32mdef\u001b[0m \u001b[0mprintname\u001b[0m\u001b[1;33m(\u001b[0m\u001b[0mself\u001b[0m\u001b[1;33m)\u001b[0m\u001b[1;33m:\u001b[0m\u001b[1;33m\u001b[0m\u001b[1;33m\u001b[0m\u001b[0m\n",
      "\u001b[1;31mNameError\u001b[0m: name 'Person' is not defined"
     ]
    }
   ],
   "source": [
    "#Parent Class\n",
    "class automotive:\n",
    "  def __init__(self, vendor, location):\n",
    "    self.vendor = vendor\n",
    "    self.location = location\n",
    "\n",
    "  def showdetails(self):\n",
    "    print(self.vendor, self.location)\n",
    "    \n",
    "\n",
    "#Child class\n",
    "class Student(Person):\n",
    "#redefining a method with same name as in parent class\n",
    "  def printname(self):\n",
    "    print(\"My name is {} {} and I am a student\".format(self.firstname, self.lastname))\n",
    "\n",
    "#Defining class object\n",
    "this_student = Student(\"Mike\", \"Olsen\")\n",
    "#calling method. See the functionality is now different than parent class function. (Overridden)\n",
    "this_student.printname() \n"
   ]
  },
  {
   "cell_type": "code",
   "execution_count": 14,
   "metadata": {},
   "outputs": [
    {
     "name": "stdout",
     "output_type": "stream",
     "text": [
      "Ford Germany\n"
     ]
    }
   ],
   "source": [
    "#Parent Class\n",
    "class automotive:\n",
    "  def __init__(self, vendor, location):\n",
    "    self.vendor = vendor\n",
    "    self.location = location\n",
    "\n",
    "  def showdetails(self):\n",
    "    print(self.vendor, self.location)\n",
    "    \n",
    "#Make an object of the class defined.\n",
    "company1 = automotive(\"Ford\",\"Germany\") #Passing arguments to class\n",
    "company1.showdetails() #calling method of the class"
   ]
  },
  {
   "cell_type": "code",
   "execution_count": null,
   "metadata": {},
   "outputs": [],
   "source": [
    "#######################################"
   ]
  },
  {
   "cell_type": "code",
   "execution_count": 7,
   "metadata": {},
   "outputs": [],
   "source": [
    "#Parent Class\n",
    "class automotive:\n",
    "  def __init__(self, vendor, location):\n",
    "    self.vendor = vendor\n",
    "    self.location = location\n",
    "\n",
    "  def showdetails(self):\n",
    "    print(self.vendor, self.location)"
   ]
  },
  {
   "cell_type": "code",
   "execution_count": 9,
   "metadata": {},
   "outputs": [],
   "source": [
    "# Child Class\n",
    "class sedan(automotive):\n",
    "    pass   #No method defined. Not even init. "
   ]
  },
  {
   "cell_type": "code",
   "execution_count": 15,
   "metadata": {},
   "outputs": [
    {
     "name": "stdout",
     "output_type": "stream",
     "text": [
      "Toyotal Japan\n"
     ]
    }
   ],
   "source": [
    "#arguments are accepted by init function. But for sedan class, its not defined.\n",
    "#Will the below code throws an error?\n",
    "company2 = sedan(\"Toyotal\",\"Japan\") \n",
    "#Calling a method from parent class.\n",
    "company2.showdetails()"
   ]
  },
  {
   "cell_type": "code",
   "execution_count": 16,
   "metadata": {},
   "outputs": [],
   "source": [
    "#######################################"
   ]
  },
  {
   "cell_type": "code",
   "execution_count": 24,
   "metadata": {},
   "outputs": [],
   "source": [
    "#Parent Class\n",
    "class automotive:\n",
    "  def __init__(self, vendor, location):\n",
    "    self.vendor = vendor\n",
    "    self.location = location\n",
    "\n",
    "  def showdetails(self):\n",
    "    print(self.vendor, self.location)"
   ]
  },
  {
   "cell_type": "code",
   "execution_count": 25,
   "metadata": {},
   "outputs": [],
   "source": [
    "# Child Class\n",
    "class sedan(automotive):\n",
    "     def showdetails(self): #Defining method of same name as in parent class. Parent class method will be overridden\n",
    "         print(\"The sedan car is from {} which is a {} based company\".format(self.vendor, self.location))"
   ]
  },
  {
   "cell_type": "code",
   "execution_count": 26,
   "metadata": {},
   "outputs": [
    {
     "name": "stdout",
     "output_type": "stream",
     "text": [
      "The sedan car is from Tesla which is a United States based company\n"
     ]
    }
   ],
   "source": [
    "company3 = sedan(\"Tesla\",\"United States\") \n",
    "#Calling a method from parent class.\n",
    "company3.showdetails()"
   ]
  },
  {
   "cell_type": "code",
   "execution_count": 27,
   "metadata": {},
   "outputs": [],
   "source": [
    "#####################################"
   ]
  },
  {
   "cell_type": "code",
   "execution_count": 30,
   "metadata": {},
   "outputs": [],
   "source": [
    "#Craeate a generator function\n",
    "def python_generator():\n",
    "    #Define three steps. One step to execute on every call.\n",
    "    #Between calls, it does not restart but remember where it finished last.\n",
    "    print('Step 1')\n",
    "    yield \"A\"\n",
    "\n",
    "    print('Step 2')\n",
    "    yield \"B\"\n",
    "\n",
    "    print('Step 3')\n",
    "    yield \"C\""
   ]
  },
  {
   "cell_type": "code",
   "execution_count": 32,
   "metadata": {},
   "outputs": [
    {
     "data": {
      "text/plain": [
       "<generator object python_generator at 0x0000019654D7DB30>"
      ]
     },
     "execution_count": 32,
     "metadata": {},
     "output_type": "execute_result"
    }
   ],
   "source": [
    "#generator function does not execute immediately\n",
    "generator_object = python_generator() \n",
    "#Obseve the value of gen. It is an object (not 10 or 20 or 30)\n",
    "generator_object"
   ]
  },
  {
   "cell_type": "code",
   "execution_count": 34,
   "metadata": {},
   "outputs": [
    {
     "name": "stdout",
     "output_type": "stream",
     "text": [
      "Step 1\n"
     ]
    },
    {
     "data": {
      "text/plain": [
       "'A'"
      ]
     },
     "execution_count": 34,
     "metadata": {},
     "output_type": "execute_result"
    }
   ],
   "source": [
    "#iterate one by one. The iterables are defined in generator function\n",
    "next(generator_object)"
   ]
  },
  {
   "cell_type": "code",
   "execution_count": 35,
   "metadata": {},
   "outputs": [
    {
     "name": "stdout",
     "output_type": "stream",
     "text": [
      "Step 2\n"
     ]
    },
    {
     "data": {
      "text/plain": [
       "'B'"
      ]
     },
     "execution_count": 35,
     "metadata": {},
     "output_type": "execute_result"
    }
   ],
   "source": [
    "next(generator_object)"
   ]
  },
  {
   "cell_type": "code",
   "execution_count": 36,
   "metadata": {},
   "outputs": [
    {
     "name": "stdout",
     "output_type": "stream",
     "text": [
      "Step 3\n"
     ]
    },
    {
     "data": {
      "text/plain": [
       "'C'"
      ]
     },
     "execution_count": 36,
     "metadata": {},
     "output_type": "execute_result"
    }
   ],
   "source": [
    "next(generator_object)"
   ]
  },
  {
   "cell_type": "code",
   "execution_count": 38,
   "metadata": {},
   "outputs": [
    {
     "name": "stdout",
     "output_type": "stream",
     "text": [
      "DEF\n"
     ]
    }
   ],
   "source": [
    "class number:\n",
    "    def __init__(self, data):\n",
    "        self.data = data\n",
    "        data = 'ABC'\n",
    "\n",
    "data_obj = number('DEF')\n",
    "print (data_obj.data)\n"
   ]
  },
  {
   "cell_type": "code",
   "execution_count": 42,
   "metadata": {},
   "outputs": [
    {
     "name": "stdout",
     "output_type": "stream",
     "text": [
      "The code results in an exception\n",
      "This code always run\n"
     ]
    }
   ],
   "source": [
    "try:\n",
    "    print(234 / 0)\n",
    "except:\n",
    "    print('The code results in an exception')\n",
    "else:\n",
    "    print('The else code has executed')\n",
    "finally:\n",
    "    print('This code always run')\n"
   ]
  }
 ],
 "metadata": {
  "kernelspec": {
   "display_name": "Python 3",
   "language": "python",
   "name": "python3"
  },
  "language_info": {
   "codemirror_mode": {
    "name": "ipython",
    "version": 3
   },
   "file_extension": ".py",
   "mimetype": "text/x-python",
   "name": "python",
   "nbconvert_exporter": "python",
   "pygments_lexer": "ipython3",
   "version": "3.8.5"
  }
 },
 "nbformat": 4,
 "nbformat_minor": 4
}
